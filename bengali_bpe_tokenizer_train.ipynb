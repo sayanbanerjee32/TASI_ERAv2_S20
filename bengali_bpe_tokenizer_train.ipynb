{
  "nbformat": 4,
  "nbformat_minor": 0,
  "metadata": {
    "colab": {
      "provenance": [],
      "mount_file_id": "1FtjWAOj1Ahmh7VGl8w3jgwYgT2DFe7_4",
      "authorship_tag": "ABX9TyOK02lTpzHfsReiIVgeiCI4",
      "include_colab_link": true
    },
    "kernelspec": {
      "name": "python3",
      "display_name": "Python 3"
    },
    "language_info": {
      "name": "python"
    },
    "widgets": {
      "application/vnd.jupyter.widget-state+json": {
        "d6c9afdeb7ae48dd98f218f7200e08de": {
          "model_module": "@jupyter-widgets/controls",
          "model_name": "HBoxModel",
          "model_module_version": "1.5.0",
          "state": {
            "_dom_classes": [],
            "_model_module": "@jupyter-widgets/controls",
            "_model_module_version": "1.5.0",
            "_model_name": "HBoxModel",
            "_view_count": null,
            "_view_module": "@jupyter-widgets/controls",
            "_view_module_version": "1.5.0",
            "_view_name": "HBoxView",
            "box_style": "",
            "children": [
              "IPY_MODEL_5dfc6e407cf7408c88f613ccc6e870ea",
              "IPY_MODEL_d3eb72e64a604a2ea351ffc94bafbef2",
              "IPY_MODEL_e49d5358eddc46fdb4e6b9e58b697467"
            ],
            "layout": "IPY_MODEL_4d1c649055e44cb5a4daf66c2528ad64"
          }
        },
        "5dfc6e407cf7408c88f613ccc6e870ea": {
          "model_module": "@jupyter-widgets/controls",
          "model_name": "HTMLModel",
          "model_module_version": "1.5.0",
          "state": {
            "_dom_classes": [],
            "_model_module": "@jupyter-widgets/controls",
            "_model_module_version": "1.5.0",
            "_model_name": "HTMLModel",
            "_view_count": null,
            "_view_module": "@jupyter-widgets/controls",
            "_view_module_version": "1.5.0",
            "_view_name": "HTMLView",
            "description": "",
            "description_tooltip": null,
            "layout": "IPY_MODEL_74729f8d41db4de0816455371610c121",
            "placeholder": "​",
            "style": "IPY_MODEL_abd962c1f33147bcb7ee39504d20d9c9",
            "value": "bengali_tokenizer.pkl: 100%"
          }
        },
        "d3eb72e64a604a2ea351ffc94bafbef2": {
          "model_module": "@jupyter-widgets/controls",
          "model_name": "FloatProgressModel",
          "model_module_version": "1.5.0",
          "state": {
            "_dom_classes": [],
            "_model_module": "@jupyter-widgets/controls",
            "_model_module_version": "1.5.0",
            "_model_name": "FloatProgressModel",
            "_view_count": null,
            "_view_module": "@jupyter-widgets/controls",
            "_view_module_version": "1.5.0",
            "_view_name": "ProgressView",
            "bar_style": "success",
            "description": "",
            "description_tooltip": null,
            "layout": "IPY_MODEL_7d6dbd2a34d14c3e8ff4f33dc5e475cc",
            "max": 144138,
            "min": 0,
            "orientation": "horizontal",
            "style": "IPY_MODEL_bb6c9bec57024d4a93164bed0870541f",
            "value": 144138
          }
        },
        "e49d5358eddc46fdb4e6b9e58b697467": {
          "model_module": "@jupyter-widgets/controls",
          "model_name": "HTMLModel",
          "model_module_version": "1.5.0",
          "state": {
            "_dom_classes": [],
            "_model_module": "@jupyter-widgets/controls",
            "_model_module_version": "1.5.0",
            "_model_name": "HTMLModel",
            "_view_count": null,
            "_view_module": "@jupyter-widgets/controls",
            "_view_module_version": "1.5.0",
            "_view_name": "HTMLView",
            "description": "",
            "description_tooltip": null,
            "layout": "IPY_MODEL_276f803cd91e49d0a952a7846b984ac5",
            "placeholder": "​",
            "style": "IPY_MODEL_915e5af7915b46b6b241c260271b1388",
            "value": " 144k/144k [00:00&lt;00:00, 122kB/s]"
          }
        },
        "4d1c649055e44cb5a4daf66c2528ad64": {
          "model_module": "@jupyter-widgets/base",
          "model_name": "LayoutModel",
          "model_module_version": "1.2.0",
          "state": {
            "_model_module": "@jupyter-widgets/base",
            "_model_module_version": "1.2.0",
            "_model_name": "LayoutModel",
            "_view_count": null,
            "_view_module": "@jupyter-widgets/base",
            "_view_module_version": "1.2.0",
            "_view_name": "LayoutView",
            "align_content": null,
            "align_items": null,
            "align_self": null,
            "border": null,
            "bottom": null,
            "display": null,
            "flex": null,
            "flex_flow": null,
            "grid_area": null,
            "grid_auto_columns": null,
            "grid_auto_flow": null,
            "grid_auto_rows": null,
            "grid_column": null,
            "grid_gap": null,
            "grid_row": null,
            "grid_template_areas": null,
            "grid_template_columns": null,
            "grid_template_rows": null,
            "height": null,
            "justify_content": null,
            "justify_items": null,
            "left": null,
            "margin": null,
            "max_height": null,
            "max_width": null,
            "min_height": null,
            "min_width": null,
            "object_fit": null,
            "object_position": null,
            "order": null,
            "overflow": null,
            "overflow_x": null,
            "overflow_y": null,
            "padding": null,
            "right": null,
            "top": null,
            "visibility": null,
            "width": null
          }
        },
        "74729f8d41db4de0816455371610c121": {
          "model_module": "@jupyter-widgets/base",
          "model_name": "LayoutModel",
          "model_module_version": "1.2.0",
          "state": {
            "_model_module": "@jupyter-widgets/base",
            "_model_module_version": "1.2.0",
            "_model_name": "LayoutModel",
            "_view_count": null,
            "_view_module": "@jupyter-widgets/base",
            "_view_module_version": "1.2.0",
            "_view_name": "LayoutView",
            "align_content": null,
            "align_items": null,
            "align_self": null,
            "border": null,
            "bottom": null,
            "display": null,
            "flex": null,
            "flex_flow": null,
            "grid_area": null,
            "grid_auto_columns": null,
            "grid_auto_flow": null,
            "grid_auto_rows": null,
            "grid_column": null,
            "grid_gap": null,
            "grid_row": null,
            "grid_template_areas": null,
            "grid_template_columns": null,
            "grid_template_rows": null,
            "height": null,
            "justify_content": null,
            "justify_items": null,
            "left": null,
            "margin": null,
            "max_height": null,
            "max_width": null,
            "min_height": null,
            "min_width": null,
            "object_fit": null,
            "object_position": null,
            "order": null,
            "overflow": null,
            "overflow_x": null,
            "overflow_y": null,
            "padding": null,
            "right": null,
            "top": null,
            "visibility": null,
            "width": null
          }
        },
        "abd962c1f33147bcb7ee39504d20d9c9": {
          "model_module": "@jupyter-widgets/controls",
          "model_name": "DescriptionStyleModel",
          "model_module_version": "1.5.0",
          "state": {
            "_model_module": "@jupyter-widgets/controls",
            "_model_module_version": "1.5.0",
            "_model_name": "DescriptionStyleModel",
            "_view_count": null,
            "_view_module": "@jupyter-widgets/base",
            "_view_module_version": "1.2.0",
            "_view_name": "StyleView",
            "description_width": ""
          }
        },
        "7d6dbd2a34d14c3e8ff4f33dc5e475cc": {
          "model_module": "@jupyter-widgets/base",
          "model_name": "LayoutModel",
          "model_module_version": "1.2.0",
          "state": {
            "_model_module": "@jupyter-widgets/base",
            "_model_module_version": "1.2.0",
            "_model_name": "LayoutModel",
            "_view_count": null,
            "_view_module": "@jupyter-widgets/base",
            "_view_module_version": "1.2.0",
            "_view_name": "LayoutView",
            "align_content": null,
            "align_items": null,
            "align_self": null,
            "border": null,
            "bottom": null,
            "display": null,
            "flex": null,
            "flex_flow": null,
            "grid_area": null,
            "grid_auto_columns": null,
            "grid_auto_flow": null,
            "grid_auto_rows": null,
            "grid_column": null,
            "grid_gap": null,
            "grid_row": null,
            "grid_template_areas": null,
            "grid_template_columns": null,
            "grid_template_rows": null,
            "height": null,
            "justify_content": null,
            "justify_items": null,
            "left": null,
            "margin": null,
            "max_height": null,
            "max_width": null,
            "min_height": null,
            "min_width": null,
            "object_fit": null,
            "object_position": null,
            "order": null,
            "overflow": null,
            "overflow_x": null,
            "overflow_y": null,
            "padding": null,
            "right": null,
            "top": null,
            "visibility": null,
            "width": null
          }
        },
        "bb6c9bec57024d4a93164bed0870541f": {
          "model_module": "@jupyter-widgets/controls",
          "model_name": "ProgressStyleModel",
          "model_module_version": "1.5.0",
          "state": {
            "_model_module": "@jupyter-widgets/controls",
            "_model_module_version": "1.5.0",
            "_model_name": "ProgressStyleModel",
            "_view_count": null,
            "_view_module": "@jupyter-widgets/base",
            "_view_module_version": "1.2.0",
            "_view_name": "StyleView",
            "bar_color": null,
            "description_width": ""
          }
        },
        "276f803cd91e49d0a952a7846b984ac5": {
          "model_module": "@jupyter-widgets/base",
          "model_name": "LayoutModel",
          "model_module_version": "1.2.0",
          "state": {
            "_model_module": "@jupyter-widgets/base",
            "_model_module_version": "1.2.0",
            "_model_name": "LayoutModel",
            "_view_count": null,
            "_view_module": "@jupyter-widgets/base",
            "_view_module_version": "1.2.0",
            "_view_name": "LayoutView",
            "align_content": null,
            "align_items": null,
            "align_self": null,
            "border": null,
            "bottom": null,
            "display": null,
            "flex": null,
            "flex_flow": null,
            "grid_area": null,
            "grid_auto_columns": null,
            "grid_auto_flow": null,
            "grid_auto_rows": null,
            "grid_column": null,
            "grid_gap": null,
            "grid_row": null,
            "grid_template_areas": null,
            "grid_template_columns": null,
            "grid_template_rows": null,
            "height": null,
            "justify_content": null,
            "justify_items": null,
            "left": null,
            "margin": null,
            "max_height": null,
            "max_width": null,
            "min_height": null,
            "min_width": null,
            "object_fit": null,
            "object_position": null,
            "order": null,
            "overflow": null,
            "overflow_x": null,
            "overflow_y": null,
            "padding": null,
            "right": null,
            "top": null,
            "visibility": null,
            "width": null
          }
        },
        "915e5af7915b46b6b241c260271b1388": {
          "model_module": "@jupyter-widgets/controls",
          "model_name": "DescriptionStyleModel",
          "model_module_version": "1.5.0",
          "state": {
            "_model_module": "@jupyter-widgets/controls",
            "_model_module_version": "1.5.0",
            "_model_name": "DescriptionStyleModel",
            "_view_count": null,
            "_view_module": "@jupyter-widgets/base",
            "_view_module_version": "1.2.0",
            "_view_name": "StyleView",
            "description_width": ""
          }
        }
      }
    }
  },
  "cells": [
    {
      "cell_type": "markdown",
      "metadata": {
        "id": "view-in-github",
        "colab_type": "text"
      },
      "source": [
        "<a href=\"https://colab.research.google.com/github/sayanbanerjee32/TASI_ERAv2_S20/blob/main/bengali_bpe_tokenizer_train.ipynb\" target=\"_parent\"><img src=\"https://colab.research.google.com/assets/colab-badge.svg\" alt=\"Open In Colab\"/></a>"
      ]
    },
    {
      "cell_type": "code",
      "source": [
        "from google.colab import drive\n",
        "drive.mount('/content/drive')"
      ],
      "metadata": {
        "colab": {
          "base_uri": "https://localhost:8080/"
        },
        "id": "ku_wMD5WqHku",
        "outputId": "5b74d039-6b93-46e5-841a-281317beb7bc"
      },
      "execution_count": 1,
      "outputs": [
        {
          "output_type": "stream",
          "name": "stdout",
          "text": [
            "Drive already mounted at /content/drive; to attempt to forcibly remount, call drive.mount(\"/content/drive\", force_remount=True).\n"
          ]
        }
      ]
    },
    {
      "cell_type": "code",
      "source": [
        "# assignment repo\n",
        "!git clone https://github.com/sayanbanerjee32/TASI_ERAv2_S20.git"
      ],
      "metadata": {
        "colab": {
          "base_uri": "https://localhost:8080/"
        },
        "id": "NNqt1vR48YvO",
        "outputId": "d6320f7c-4632-4897-f63d-fc05d8ac6a9d"
      },
      "execution_count": 2,
      "outputs": [
        {
          "output_type": "stream",
          "name": "stdout",
          "text": [
            "Cloning into 'TASI_ERAv2_S20'...\n",
            "remote: Enumerating objects: 24, done.\u001b[K\n",
            "remote: Counting objects: 100% (24/24), done.\u001b[K\n",
            "remote: Compressing objects: 100% (21/21), done.\u001b[K\n",
            "remote: Total 24 (delta 7), reused 0 (delta 0), pack-reused 0\u001b[K\n",
            "Receiving objects: 100% (24/24), 19.78 KiB | 3.30 MiB/s, done.\n",
            "Resolving deltas: 100% (7/7), done.\n"
          ]
        }
      ]
    },
    {
      "cell_type": "code",
      "source": [
        "# copy the begali corpus files\n",
        "!cp /content/drive/MyDrive/ERAv2_datasets/bengali_corpus/ben.txt .\n",
        "!cp /content/drive/MyDrive/ERAv2_datasets/bengali_corpus/dev_bn_short.txt .\n",
        "\n",
        "# copy utils file\n",
        "!mv TASI_ERAv2_S20/utils.py ."
      ],
      "metadata": {
        "id": "HPULPv13qOLl"
      },
      "execution_count": 3,
      "outputs": []
    },
    {
      "cell_type": "code",
      "execution_count": 4,
      "metadata": {
        "colab": {
          "base_uri": "https://localhost:8080/"
        },
        "id": "j7b-9-753MZN",
        "outputId": "a857d403-07a3-4bd9-9ec9-a0442061a515"
      },
      "outputs": [
        {
          "output_type": "execute_result",
          "data": {
            "text/plain": [
              "('্য সবাই যা করতে চায় তা করতে চায়নি।\\nএকা থাকার একটা অসুবিধে হোলো যে কথা বলার মতো কেউ থাকে না।\\nআপনার সমস্ত অর্থ দিয়ে আপনি যা চান তা কিনতে সক্ষম হওয়া উচিত।\\nবাইরে এতই গরম যে আমি পুরোদিন আমার শীততাপ নিয়ন্ত্রিত বাড়িতে থাকতে চাই।\\nসকালে সূর্য পূর্ব দিকে ওঠে এবং সন্ধ্যায় পশ্চিমে অস্ত যায়।\\nআমি শুনলাম যে তাঁরা পার্ক স্ট্রিটের একটা বাড়ির ভিতের মধ্যে থেকে একটা কঙ্কাল পেয়েছেন।\\nটম যখন শুনলো যে মেরি আরে জন বিয়ে করেছে তখন তাকে দেখে বেশ অবাক মনে হয়েছিলো।\\nআমার মনে হয় টম যে সোনা পেয়েছে সেটা তার কাছে রাখতে দেওয়া হবে এমন সম্ভাবনা খুব কম।\\nটম মেরিকে বললো যে ও নিজেকে হত্যা করতে চলেছিলো, কিন্ত তা করার মতো সাহস ছিলো না।\\nটমের সঙ্গে কাজ করা খুব বিরক্তিকর কারণ ও কখনই মেনে নেয় না যে ও ভুল করেছে।\\nআমি ভেবেছিলাম এটা করা সহজ হবে, কিন্তু আমরা সারাদিন ধরে কাজ করেছি আর এখনো শেষ করে উঠতে পারিনি।\\nআমি ভেবেছিলাম এটা করা সহজ হবে, কিন্তু আমরা সারাদিন ধরে কাজ করেছি আর এখনো শেষ করে উঠতে পারিনি।\\nবছরের বারোটা মাস হলো জানুয়ারি, ফেব্রুয়ারি, মার্চ, এপ্রিল, মে, জুন জুলাই, আগস্ট, সেপ্টেম্বর, অক্টোবর, নভেম্বর আর ডিসেম্বর।',\n",
              " 'সময় ঘনিয়ে আসছে ক্রমশ।\\nতবে বিষয়গুলি নিয়ে প্রশাসনের কর্তারা মুখ খোলেননি।\\nতারা দু’জনে তাঁকে অপেক্ষা করতে বললেন।\\nতবে অভিযুক্ত স্কুটিচালক ইজাজ আহমেদকে গ্রেফতার করেছে পুলিশ।\\nআমি অবশ্য এসব কথা বলিনি।\\nতিনি তখনই বাড়ি থেকে বেরিয়ে যান।\\nতবে কী কারণে খুন তা জানা যায়নি।\\nমামলা দায়ের করা হয়েছিল তাঁর বিরুদ্ধে।\\nস্কুলে পড়ার সময় থেকেই তিনি জড়িয়ে পড়েছিলেন রাজনীতির সঙ্গে।\\nআমার ধারণা অন্যরকম।\\nকতকাল হল আছে!\\nবিরাট কোহলি ও রোহিত শর্মা।\\nমৃত দুজনেই তারাপীঠ থেকে ফেরা গাড়িটির চালক ও এক যাত্রী।\\nপ্রায় প্রতিদিনই হাফসেঞ্চুরি করছেন।\\nপর্যাপ্ত খাদ্য সামগ্রী মজুদ আছে।\\nশরীরের অবস্থার অবনতি হওয়ায় তারা হাসপাতালে ভর্তি হয়েছেন।\\nপ্রতারণা মামলায় গ্রেফতার দেখিয়ে তাকে জেল-হাজতে পাঠিয়েছে পুলিশ।\\nকি নিষ্ঠুর আমি!\\nতাঁদের সবাই কোনো না কোনো মানবকন্যা।\\nতবে আর কোনো পদক্ষেপ করেননি প্রধানমন্ত্রী।\\nযারাই এর সঙ্গে সম্পৃক্ত থাকবে তাদের বিরুদ্ধে ব্যবস্থা নেব।\\nবিয়ে নিয়ে ভাবছেন?\\nএইভাবে বিজেপিকে হারানো যাবে না।\\nছোট-বড়, প্রৌঢ়-বৃদ্ধ ও গোলাম-বাঁদি সবাই উৎসবমুখর হয়ে ওঠে।\\nগোলও পাননি…।\\nবিশ্বকাপ দেরগোড়ায়।\\nভিডিও কনফারেন্সে প্রধানমন্ত্রী শেখ হাসিনা ও')"
            ]
          },
          "metadata": {},
          "execution_count": 4
        }
      ],
      "source": [
        "# read the corpus files\n",
        "with open('ben.txt', 'r') as _f:\n",
        "    # raw_text = _f.readlines()\n",
        "    raw_lines = [line.split('\\t')[1] for line in _f]\n",
        "    text1 = '\\n'.join(raw_lines)\n",
        "\n",
        "with open('dev_bn_short.txt', 'r') as _f:\n",
        "    text2 = ''.join(_f.readlines())\n",
        "\n",
        "\n",
        "text1[-1000:], text2[:1000]"
      ]
    },
    {
      "cell_type": "code",
      "source": [
        "# merge all contents\n",
        "ben_text = text1 + '\\n' +text2"
      ],
      "metadata": {
        "id": "_Co5hbx88cyk"
      },
      "execution_count": 5,
      "outputs": []
    },
    {
      "cell_type": "code",
      "source": [
        "tokens = ben_text.encode(\"utf-8\") # raw bytes\n",
        "tokens = list(map(int, tokens)) # convert to a list of integers in range 0..255 for convenience"
      ],
      "metadata": {
        "id": "z-oo9R4Q3unH"
      },
      "execution_count": 6,
      "outputs": []
    },
    {
      "cell_type": "markdown",
      "source": [
        "## Bengali tokenizer with regex"
      ],
      "metadata": {
        "id": "g1L32CLMYu2x"
      }
    },
    {
      "cell_type": "code",
      "source": [
        "import regex as re\n",
        "from utils import get_stats, merge, encode, decode"
      ],
      "metadata": {
        "id": "FDqbilxHUBGr"
      },
      "execution_count": 7,
      "outputs": []
    },
    {
      "cell_type": "code",
      "source": [
        "vocab_size = 5001 # the desired final vocabulary size\n",
        "num_merges = vocab_size - 256"
      ],
      "metadata": {
        "id": "qOe4_SKLaK9m"
      },
      "execution_count": 8,
      "outputs": []
    },
    {
      "cell_type": "code",
      "source": [
        "# regex pattern for bengali text\n",
        "regex_pat = re.compile(r\"\"\" ?\\p{Bengali}+| ?[^\\s\\p{Bengali}]+|\\s+(?!\\S)|\\s+\"\"\")"
      ],
      "metadata": {
        "id": "Vj_6fnLdYuFP"
      },
      "execution_count": 9,
      "outputs": []
    },
    {
      "cell_type": "code",
      "source": [
        "# split the text up into text chunks\n",
        "text_chunks = re.findall(regex_pat, ben_text)"
      ],
      "metadata": {
        "id": "DeAv6CVZvnEF"
      },
      "execution_count": 10,
      "outputs": []
    },
    {
      "cell_type": "code",
      "source": [
        "# input text preprocessing\n",
        "ids = [list(ch.encode(\"utf-8\")) for ch in text_chunks]"
      ],
      "metadata": {
        "id": "RDZ9hDSOZMls"
      },
      "execution_count": 11,
      "outputs": []
    },
    {
      "cell_type": "code",
      "source": [
        "# iteratively merge the most common pairs to create new tokens\n",
        "merges = {} # (int, int) -> int\n",
        "vocab = {idx: bytes([idx]) for idx in range(256)} # idx -> bytes\n",
        "for i in range(num_merges):\n",
        "    # count the number of times every consecutive pair appears\n",
        "    stats = {}\n",
        "    for chunk_ids in ids:\n",
        "        # passing in stats will update it in place, adding up counts\n",
        "        get_stats(chunk_ids, stats)\n",
        "    # find the pair with the highest count\n",
        "    pair = max(stats, key=stats.get)\n",
        "    if stats[pair] < 2: # there should be at least 2 occurances\n",
        "        print(\"exitting - less than 2 occurances\")\n",
        "        break\n",
        "    # mint a new token: assign it the next available id\n",
        "    idx = 256 + i\n",
        "    # replace all occurrences of pair in ids with idx\n",
        "    ids = [merge(chunk_ids, pair, idx) for chunk_ids in ids]\n",
        "    # save the merge\n",
        "    merges[pair] = idx\n",
        "    vocab[idx] = vocab[pair[0]] + vocab[pair[1]]\n",
        "\n",
        "\n",
        "print(f\"vocab size: {len(vocab)}\")\n",
        "print(f\"Number of merges: {i}\")\n",
        "print(f\"Number of occurences of last merged tokens: {stats[pair]}\")"
      ],
      "metadata": {
        "colab": {
          "base_uri": "https://localhost:8080/"
        },
        "id": "dyUJs-nwZRAr",
        "outputId": "4de0cee5-4ff7-4310-f6c6-d77b8102c748"
      },
      "execution_count": 12,
      "outputs": [
        {
          "output_type": "stream",
          "name": "stdout",
          "text": [
            "vocab size: 5001\n",
            "Number of merges: 4744\n",
            "Number of occurences of last merged tokens: 6\n"
          ]
        }
      ]
    },
    {
      "cell_type": "code",
      "source": [
        "print(\"tokens length:\", len(tokens))\n",
        "print(\"ids length:\", len(ids))\n",
        "print(f\"compression ratio: {len(tokens) / len(ids):.2f}X\")"
      ],
      "metadata": {
        "colab": {
          "base_uri": "https://localhost:8080/"
        },
        "id": "f235EeL6auiO",
        "outputId": "4d158e72-f557-4b1f-9368-6e4ab5100553"
      },
      "execution_count": 13,
      "outputs": [
        {
          "output_type": "stream",
          "name": "stdout",
          "text": [
            "tokens length: 1344947\n",
            "ids length: 121387\n",
            "compression ratio: 11.08X\n"
          ]
        }
      ]
    },
    {
      "cell_type": "markdown",
      "source": [
        "## Validate"
      ],
      "metadata": {
        "id": "9SQIbi1Vbeec"
      }
    },
    {
      "cell_type": "code",
      "source": [
        "## Test whether encoding and then decoding of training text results into same text\n",
        "text2 = decode(encode(ben_text, regex_pat, merges),vocab)\n",
        "print(text2 == ben_text)"
      ],
      "metadata": {
        "colab": {
          "base_uri": "https://localhost:8080/"
        },
        "outputId": "75458877-aef4-4c6e-99d2-64791a532598",
        "id": "SSAv2iKPbeed"
      },
      "execution_count": 14,
      "outputs": [
        {
          "output_type": "stream",
          "name": "stdout",
          "text": [
            "True\n"
          ]
        }
      ]
    },
    {
      "cell_type": "code",
      "source": [
        "valtext = \"\"\"\n",
        "বিশেষভাবে হত্যাকা-ের শিকার হচ্ছে শিশুরা।\n",
        "অন্যদের কোনওরকমভাবে হয়রান করা হচ্ছে না।\n",
        "বিক্ষোভকারীদের ওপর পুলিশ কাঁদানে গ্যাস ছোড়ে।\n",
        "সেটা ফেরত পাওয়া খুব সোজা ব্যাপার নয়, অনিমেষ।\n",
        "পরে হাসপাতাল থেকেও তাঁকে বের করে দেওয়া হয়।\n",
        "নয়তো কার?\n",
        "সম্প্রতি শারীরিক অসুস্থতার কারণে তাঁকে ভর্তি করা হয় সেখানকার হাসপাতালে।\n",
        "ইতিমধ্যে ছবির শুটিংও শুরু হয়ে গেছে মুম্বইয়ের ধারাবি অঞ্চলে।\n",
        "\"\"\"\n",
        "valtext2 = decode(encode(valtext, regex_pat, merges),vocab)\n",
        "print(valtext2 == valtext)"
      ],
      "metadata": {
        "colab": {
          "base_uri": "https://localhost:8080/"
        },
        "outputId": "d65ef3c0-6f05-4ef1-975c-76bb5a4e80e1",
        "id": "zKPTryD2beed"
      },
      "execution_count": 15,
      "outputs": [
        {
          "output_type": "stream",
          "name": "stdout",
          "text": [
            "True\n"
          ]
        }
      ]
    },
    {
      "cell_type": "markdown",
      "source": [
        "### Save the vocab, merges and the regex"
      ],
      "metadata": {
        "id": "bItxUFrwgwZt"
      }
    },
    {
      "cell_type": "code",
      "source": [
        "import pickle"
      ],
      "metadata": {
        "id": "rG0Rn_udiWC3"
      },
      "execution_count": 16,
      "outputs": []
    },
    {
      "cell_type": "code",
      "source": [
        "save_dict = {\"vocab\": vocab, \"merges\": merges, \"regex_pat\": regex_pat}\n",
        "with open(\"bengali_tokenizer.pkl\", \"wb\") as f:\n",
        "    pickle.dump(save_dict, f)"
      ],
      "metadata": {
        "id": "lt7YTlq6beee"
      },
      "execution_count": 17,
      "outputs": []
    },
    {
      "cell_type": "code",
      "source": [
        "import os\n",
        "os.makedirs('to_upload', exist_ok=True)"
      ],
      "metadata": {
        "id": "YvnMJ9EzbX90"
      },
      "execution_count": 18,
      "outputs": []
    },
    {
      "cell_type": "code",
      "source": [
        "!cp bengali_tokenizer.pkl to_upload/"
      ],
      "metadata": {
        "id": "OK9FfZ26ifuZ"
      },
      "execution_count": 19,
      "outputs": []
    },
    {
      "cell_type": "code",
      "source": [
        "from huggingface_hub import HfApi\n",
        "from google.colab import userdata\n",
        "userdata.get('HF_TOKEN')\n",
        "api = HfApi()"
      ],
      "metadata": {
        "id": "0_S3ldBmiK1I"
      },
      "execution_count": 20,
      "outputs": []
    },
    {
      "cell_type": "code",
      "source": [
        "api.upload_folder(\n",
        "    folder_path=\"./to_upload\",\n",
        "    repo_id=\"sayanbanerjee32/bengali_tokenizer\",\n",
        "    repo_type=\"model\",\n",
        ")"
      ],
      "metadata": {
        "colab": {
          "base_uri": "https://localhost:8080/",
          "height": 138,
          "referenced_widgets": [
            "d6c9afdeb7ae48dd98f218f7200e08de",
            "5dfc6e407cf7408c88f613ccc6e870ea",
            "d3eb72e64a604a2ea351ffc94bafbef2",
            "e49d5358eddc46fdb4e6b9e58b697467",
            "4d1c649055e44cb5a4daf66c2528ad64",
            "74729f8d41db4de0816455371610c121",
            "abd962c1f33147bcb7ee39504d20d9c9",
            "7d6dbd2a34d14c3e8ff4f33dc5e475cc",
            "bb6c9bec57024d4a93164bed0870541f",
            "276f803cd91e49d0a952a7846b984ac5",
            "915e5af7915b46b6b241c260271b1388"
          ]
        },
        "id": "dDD27Kn_iSca",
        "outputId": "900b7195-56eb-4892-b26a-feccc851fba2"
      },
      "execution_count": 21,
      "outputs": [
        {
          "output_type": "display_data",
          "data": {
            "text/plain": [
              "bengali_tokenizer.pkl:   0%|          | 0.00/144k [00:00<?, ?B/s]"
            ],
            "application/vnd.jupyter.widget-view+json": {
              "version_major": 2,
              "version_minor": 0,
              "model_id": "d6c9afdeb7ae48dd98f218f7200e08de"
            }
          },
          "metadata": {}
        },
        {
          "output_type": "execute_result",
          "data": {
            "text/plain": [
              "CommitInfo(commit_url='https://huggingface.co/sayanbanerjee32/bengali_tokenizer/commit/2e728b823084d5d55fed6fdc5b504dd99fc6940b', commit_message='Upload folder using huggingface_hub', commit_description='', oid='2e728b823084d5d55fed6fdc5b504dd99fc6940b', pr_url=None, pr_revision=None, pr_num=None)"
            ],
            "application/vnd.google.colaboratory.intrinsic+json": {
              "type": "string"
            }
          },
          "metadata": {},
          "execution_count": 21
        }
      ]
    },
    {
      "cell_type": "code",
      "source": [],
      "metadata": {
        "id": "R3h2jPvcjNhD"
      },
      "execution_count": 21,
      "outputs": []
    }
  ]
}